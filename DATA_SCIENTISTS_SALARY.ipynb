{
  "nbformat": 4,
  "nbformat_minor": 0,
  "metadata": {
    "colab": {
      "name": "DATA SCIENTISTS SALARY",
      "provenance": [],
      "collapsed_sections": []
    },
    "kernelspec": {
      "name": "python3",
      "display_name": "Python 3"
    },
    "language_info": {
      "name": "python"
    }
  },
  "cells": [
    {
      "cell_type": "code",
      "source": [
        "import pandas as pd\n",
        "import numpy as np\n",
        "import seaborn as sns\n",
        "import matplotlib.pyplot as plt\n",
        "\n",
        "df = pd.read_csv('/content/ds_salaries.csv')\n",
        "df.head()"
      ],
      "metadata": {
        "colab": {
          "base_uri": "https://localhost:8080/",
          "height": 426
        },
        "id": "yG3OCeNKChj_",
        "outputId": "71ef776b-6db0-4f84-df0b-e192b1c69b13"
      },
      "execution_count": null,
      "outputs": [
        {
          "output_type": "execute_result",
          "data": {
            "text/plain": [
              "   Unnamed: 0  work_year experience_level employment_type  \\\n",
              "0           0       2020               MI              FT   \n",
              "1           1       2020               SE              FT   \n",
              "2           2       2020               SE              FT   \n",
              "3           3       2020               MI              FT   \n",
              "4           4       2020               SE              FT   \n",
              "\n",
              "                    job_title  salary salary_currency  salary_in_usd  \\\n",
              "0              Data Scientist   70000             EUR          79833   \n",
              "1  Machine Learning Scientist  260000             USD         260000   \n",
              "2           Big Data Engineer   85000             GBP         109024   \n",
              "3        Product Data Analyst   20000             USD          20000   \n",
              "4   Machine Learning Engineer  150000             USD         150000   \n",
              "\n",
              "  employee_residence  remote_ratio company_location company_size  \n",
              "0                 DE             0               DE            L  \n",
              "1                 JP             0               JP            S  \n",
              "2                 GB            50               GB            M  \n",
              "3                 HN             0               HN            S  \n",
              "4                 US            50               US            L  "
            ],
            "text/html": [
              "\n",
              "  <div id=\"df-1721d139-727c-43f0-8ffa-21abd83cbaec\">\n",
              "    <div class=\"colab-df-container\">\n",
              "      <div>\n",
              "<style scoped>\n",
              "    .dataframe tbody tr th:only-of-type {\n",
              "        vertical-align: middle;\n",
              "    }\n",
              "\n",
              "    .dataframe tbody tr th {\n",
              "        vertical-align: top;\n",
              "    }\n",
              "\n",
              "    .dataframe thead th {\n",
              "        text-align: right;\n",
              "    }\n",
              "</style>\n",
              "<table border=\"1\" class=\"dataframe\">\n",
              "  <thead>\n",
              "    <tr style=\"text-align: right;\">\n",
              "      <th></th>\n",
              "      <th>Unnamed: 0</th>\n",
              "      <th>work_year</th>\n",
              "      <th>experience_level</th>\n",
              "      <th>employment_type</th>\n",
              "      <th>job_title</th>\n",
              "      <th>salary</th>\n",
              "      <th>salary_currency</th>\n",
              "      <th>salary_in_usd</th>\n",
              "      <th>employee_residence</th>\n",
              "      <th>remote_ratio</th>\n",
              "      <th>company_location</th>\n",
              "      <th>company_size</th>\n",
              "    </tr>\n",
              "  </thead>\n",
              "  <tbody>\n",
              "    <tr>\n",
              "      <th>0</th>\n",
              "      <td>0</td>\n",
              "      <td>2020</td>\n",
              "      <td>MI</td>\n",
              "      <td>FT</td>\n",
              "      <td>Data Scientist</td>\n",
              "      <td>70000</td>\n",
              "      <td>EUR</td>\n",
              "      <td>79833</td>\n",
              "      <td>DE</td>\n",
              "      <td>0</td>\n",
              "      <td>DE</td>\n",
              "      <td>L</td>\n",
              "    </tr>\n",
              "    <tr>\n",
              "      <th>1</th>\n",
              "      <td>1</td>\n",
              "      <td>2020</td>\n",
              "      <td>SE</td>\n",
              "      <td>FT</td>\n",
              "      <td>Machine Learning Scientist</td>\n",
              "      <td>260000</td>\n",
              "      <td>USD</td>\n",
              "      <td>260000</td>\n",
              "      <td>JP</td>\n",
              "      <td>0</td>\n",
              "      <td>JP</td>\n",
              "      <td>S</td>\n",
              "    </tr>\n",
              "    <tr>\n",
              "      <th>2</th>\n",
              "      <td>2</td>\n",
              "      <td>2020</td>\n",
              "      <td>SE</td>\n",
              "      <td>FT</td>\n",
              "      <td>Big Data Engineer</td>\n",
              "      <td>85000</td>\n",
              "      <td>GBP</td>\n",
              "      <td>109024</td>\n",
              "      <td>GB</td>\n",
              "      <td>50</td>\n",
              "      <td>GB</td>\n",
              "      <td>M</td>\n",
              "    </tr>\n",
              "    <tr>\n",
              "      <th>3</th>\n",
              "      <td>3</td>\n",
              "      <td>2020</td>\n",
              "      <td>MI</td>\n",
              "      <td>FT</td>\n",
              "      <td>Product Data Analyst</td>\n",
              "      <td>20000</td>\n",
              "      <td>USD</td>\n",
              "      <td>20000</td>\n",
              "      <td>HN</td>\n",
              "      <td>0</td>\n",
              "      <td>HN</td>\n",
              "      <td>S</td>\n",
              "    </tr>\n",
              "    <tr>\n",
              "      <th>4</th>\n",
              "      <td>4</td>\n",
              "      <td>2020</td>\n",
              "      <td>SE</td>\n",
              "      <td>FT</td>\n",
              "      <td>Machine Learning Engineer</td>\n",
              "      <td>150000</td>\n",
              "      <td>USD</td>\n",
              "      <td>150000</td>\n",
              "      <td>US</td>\n",
              "      <td>50</td>\n",
              "      <td>US</td>\n",
              "      <td>L</td>\n",
              "    </tr>\n",
              "  </tbody>\n",
              "</table>\n",
              "</div>\n",
              "      <button class=\"colab-df-convert\" onclick=\"convertToInteractive('df-1721d139-727c-43f0-8ffa-21abd83cbaec')\"\n",
              "              title=\"Convert this dataframe to an interactive table.\"\n",
              "              style=\"display:none;\">\n",
              "        \n",
              "  <svg xmlns=\"http://www.w3.org/2000/svg\" height=\"24px\"viewBox=\"0 0 24 24\"\n",
              "       width=\"24px\">\n",
              "    <path d=\"M0 0h24v24H0V0z\" fill=\"none\"/>\n",
              "    <path d=\"M18.56 5.44l.94 2.06.94-2.06 2.06-.94-2.06-.94-.94-2.06-.94 2.06-2.06.94zm-11 1L8.5 8.5l.94-2.06 2.06-.94-2.06-.94L8.5 2.5l-.94 2.06-2.06.94zm10 10l.94 2.06.94-2.06 2.06-.94-2.06-.94-.94-2.06-.94 2.06-2.06.94z\"/><path d=\"M17.41 7.96l-1.37-1.37c-.4-.4-.92-.59-1.43-.59-.52 0-1.04.2-1.43.59L10.3 9.45l-7.72 7.72c-.78.78-.78 2.05 0 2.83L4 21.41c.39.39.9.59 1.41.59.51 0 1.02-.2 1.41-.59l7.78-7.78 2.81-2.81c.8-.78.8-2.07 0-2.86zM5.41 20L4 18.59l7.72-7.72 1.47 1.35L5.41 20z\"/>\n",
              "  </svg>\n",
              "      </button>\n",
              "      \n",
              "  <style>\n",
              "    .colab-df-container {\n",
              "      display:flex;\n",
              "      flex-wrap:wrap;\n",
              "      gap: 12px;\n",
              "    }\n",
              "\n",
              "    .colab-df-convert {\n",
              "      background-color: #E8F0FE;\n",
              "      border: none;\n",
              "      border-radius: 50%;\n",
              "      cursor: pointer;\n",
              "      display: none;\n",
              "      fill: #1967D2;\n",
              "      height: 32px;\n",
              "      padding: 0 0 0 0;\n",
              "      width: 32px;\n",
              "    }\n",
              "\n",
              "    .colab-df-convert:hover {\n",
              "      background-color: #E2EBFA;\n",
              "      box-shadow: 0px 1px 2px rgba(60, 64, 67, 0.3), 0px 1px 3px 1px rgba(60, 64, 67, 0.15);\n",
              "      fill: #174EA6;\n",
              "    }\n",
              "\n",
              "    [theme=dark] .colab-df-convert {\n",
              "      background-color: #3B4455;\n",
              "      fill: #D2E3FC;\n",
              "    }\n",
              "\n",
              "    [theme=dark] .colab-df-convert:hover {\n",
              "      background-color: #434B5C;\n",
              "      box-shadow: 0px 1px 3px 1px rgba(0, 0, 0, 0.15);\n",
              "      filter: drop-shadow(0px 1px 2px rgba(0, 0, 0, 0.3));\n",
              "      fill: #FFFFFF;\n",
              "    }\n",
              "  </style>\n",
              "\n",
              "      <script>\n",
              "        const buttonEl =\n",
              "          document.querySelector('#df-1721d139-727c-43f0-8ffa-21abd83cbaec button.colab-df-convert');\n",
              "        buttonEl.style.display =\n",
              "          google.colab.kernel.accessAllowed ? 'block' : 'none';\n",
              "\n",
              "        async function convertToInteractive(key) {\n",
              "          const element = document.querySelector('#df-1721d139-727c-43f0-8ffa-21abd83cbaec');\n",
              "          const dataTable =\n",
              "            await google.colab.kernel.invokeFunction('convertToInteractive',\n",
              "                                                     [key], {});\n",
              "          if (!dataTable) return;\n",
              "\n",
              "          const docLinkHtml = 'Like what you see? Visit the ' +\n",
              "            '<a target=\"_blank\" href=https://colab.research.google.com/notebooks/data_table.ipynb>data table notebook</a>'\n",
              "            + ' to learn more about interactive tables.';\n",
              "          element.innerHTML = '';\n",
              "          dataTable['output_type'] = 'display_data';\n",
              "          await google.colab.output.renderOutput(dataTable, element);\n",
              "          const docLink = document.createElement('div');\n",
              "          docLink.innerHTML = docLinkHtml;\n",
              "          element.appendChild(docLink);\n",
              "        }\n",
              "      </script>\n",
              "    </div>\n",
              "  </div>\n",
              "  "
            ]
          },
          "metadata": {},
          "execution_count": 50
        }
      ]
    },
    {
      "cell_type": "code",
      "source": [
        "df.describe()"
      ],
      "metadata": {
        "colab": {
          "base_uri": "https://localhost:8080/",
          "height": 300
        },
        "id": "me2yI_FUCzg5",
        "outputId": "01b7d0bd-1365-46cf-f1ea-2dd071e5697a"
      },
      "execution_count": null,
      "outputs": [
        {
          "output_type": "execute_result",
          "data": {
            "text/plain": [
              "       Unnamed: 0    work_year        salary  salary_in_usd  remote_ratio\n",
              "count  607.000000   607.000000  6.070000e+02     607.000000     607.00000\n",
              "mean   303.000000  2021.405272  3.240001e+05  112297.869852      70.92257\n",
              "std    175.370085     0.692133  1.544357e+06   70957.259411      40.70913\n",
              "min      0.000000  2020.000000  4.000000e+03    2859.000000       0.00000\n",
              "25%    151.500000  2021.000000  7.000000e+04   62726.000000      50.00000\n",
              "50%    303.000000  2022.000000  1.150000e+05  101570.000000     100.00000\n",
              "75%    454.500000  2022.000000  1.650000e+05  150000.000000     100.00000\n",
              "max    606.000000  2022.000000  3.040000e+07  600000.000000     100.00000"
            ],
            "text/html": [
              "\n",
              "  <div id=\"df-c3a270de-c9a3-43b0-8b29-ee856162c8b9\">\n",
              "    <div class=\"colab-df-container\">\n",
              "      <div>\n",
              "<style scoped>\n",
              "    .dataframe tbody tr th:only-of-type {\n",
              "        vertical-align: middle;\n",
              "    }\n",
              "\n",
              "    .dataframe tbody tr th {\n",
              "        vertical-align: top;\n",
              "    }\n",
              "\n",
              "    .dataframe thead th {\n",
              "        text-align: right;\n",
              "    }\n",
              "</style>\n",
              "<table border=\"1\" class=\"dataframe\">\n",
              "  <thead>\n",
              "    <tr style=\"text-align: right;\">\n",
              "      <th></th>\n",
              "      <th>Unnamed: 0</th>\n",
              "      <th>work_year</th>\n",
              "      <th>salary</th>\n",
              "      <th>salary_in_usd</th>\n",
              "      <th>remote_ratio</th>\n",
              "    </tr>\n",
              "  </thead>\n",
              "  <tbody>\n",
              "    <tr>\n",
              "      <th>count</th>\n",
              "      <td>607.000000</td>\n",
              "      <td>607.000000</td>\n",
              "      <td>6.070000e+02</td>\n",
              "      <td>607.000000</td>\n",
              "      <td>607.00000</td>\n",
              "    </tr>\n",
              "    <tr>\n",
              "      <th>mean</th>\n",
              "      <td>303.000000</td>\n",
              "      <td>2021.405272</td>\n",
              "      <td>3.240001e+05</td>\n",
              "      <td>112297.869852</td>\n",
              "      <td>70.92257</td>\n",
              "    </tr>\n",
              "    <tr>\n",
              "      <th>std</th>\n",
              "      <td>175.370085</td>\n",
              "      <td>0.692133</td>\n",
              "      <td>1.544357e+06</td>\n",
              "      <td>70957.259411</td>\n",
              "      <td>40.70913</td>\n",
              "    </tr>\n",
              "    <tr>\n",
              "      <th>min</th>\n",
              "      <td>0.000000</td>\n",
              "      <td>2020.000000</td>\n",
              "      <td>4.000000e+03</td>\n",
              "      <td>2859.000000</td>\n",
              "      <td>0.00000</td>\n",
              "    </tr>\n",
              "    <tr>\n",
              "      <th>25%</th>\n",
              "      <td>151.500000</td>\n",
              "      <td>2021.000000</td>\n",
              "      <td>7.000000e+04</td>\n",
              "      <td>62726.000000</td>\n",
              "      <td>50.00000</td>\n",
              "    </tr>\n",
              "    <tr>\n",
              "      <th>50%</th>\n",
              "      <td>303.000000</td>\n",
              "      <td>2022.000000</td>\n",
              "      <td>1.150000e+05</td>\n",
              "      <td>101570.000000</td>\n",
              "      <td>100.00000</td>\n",
              "    </tr>\n",
              "    <tr>\n",
              "      <th>75%</th>\n",
              "      <td>454.500000</td>\n",
              "      <td>2022.000000</td>\n",
              "      <td>1.650000e+05</td>\n",
              "      <td>150000.000000</td>\n",
              "      <td>100.00000</td>\n",
              "    </tr>\n",
              "    <tr>\n",
              "      <th>max</th>\n",
              "      <td>606.000000</td>\n",
              "      <td>2022.000000</td>\n",
              "      <td>3.040000e+07</td>\n",
              "      <td>600000.000000</td>\n",
              "      <td>100.00000</td>\n",
              "    </tr>\n",
              "  </tbody>\n",
              "</table>\n",
              "</div>\n",
              "      <button class=\"colab-df-convert\" onclick=\"convertToInteractive('df-c3a270de-c9a3-43b0-8b29-ee856162c8b9')\"\n",
              "              title=\"Convert this dataframe to an interactive table.\"\n",
              "              style=\"display:none;\">\n",
              "        \n",
              "  <svg xmlns=\"http://www.w3.org/2000/svg\" height=\"24px\"viewBox=\"0 0 24 24\"\n",
              "       width=\"24px\">\n",
              "    <path d=\"M0 0h24v24H0V0z\" fill=\"none\"/>\n",
              "    <path d=\"M18.56 5.44l.94 2.06.94-2.06 2.06-.94-2.06-.94-.94-2.06-.94 2.06-2.06.94zm-11 1L8.5 8.5l.94-2.06 2.06-.94-2.06-.94L8.5 2.5l-.94 2.06-2.06.94zm10 10l.94 2.06.94-2.06 2.06-.94-2.06-.94-.94-2.06-.94 2.06-2.06.94z\"/><path d=\"M17.41 7.96l-1.37-1.37c-.4-.4-.92-.59-1.43-.59-.52 0-1.04.2-1.43.59L10.3 9.45l-7.72 7.72c-.78.78-.78 2.05 0 2.83L4 21.41c.39.39.9.59 1.41.59.51 0 1.02-.2 1.41-.59l7.78-7.78 2.81-2.81c.8-.78.8-2.07 0-2.86zM5.41 20L4 18.59l7.72-7.72 1.47 1.35L5.41 20z\"/>\n",
              "  </svg>\n",
              "      </button>\n",
              "      \n",
              "  <style>\n",
              "    .colab-df-container {\n",
              "      display:flex;\n",
              "      flex-wrap:wrap;\n",
              "      gap: 12px;\n",
              "    }\n",
              "\n",
              "    .colab-df-convert {\n",
              "      background-color: #E8F0FE;\n",
              "      border: none;\n",
              "      border-radius: 50%;\n",
              "      cursor: pointer;\n",
              "      display: none;\n",
              "      fill: #1967D2;\n",
              "      height: 32px;\n",
              "      padding: 0 0 0 0;\n",
              "      width: 32px;\n",
              "    }\n",
              "\n",
              "    .colab-df-convert:hover {\n",
              "      background-color: #E2EBFA;\n",
              "      box-shadow: 0px 1px 2px rgba(60, 64, 67, 0.3), 0px 1px 3px 1px rgba(60, 64, 67, 0.15);\n",
              "      fill: #174EA6;\n",
              "    }\n",
              "\n",
              "    [theme=dark] .colab-df-convert {\n",
              "      background-color: #3B4455;\n",
              "      fill: #D2E3FC;\n",
              "    }\n",
              "\n",
              "    [theme=dark] .colab-df-convert:hover {\n",
              "      background-color: #434B5C;\n",
              "      box-shadow: 0px 1px 3px 1px rgba(0, 0, 0, 0.15);\n",
              "      filter: drop-shadow(0px 1px 2px rgba(0, 0, 0, 0.3));\n",
              "      fill: #FFFFFF;\n",
              "    }\n",
              "  </style>\n",
              "\n",
              "      <script>\n",
              "        const buttonEl =\n",
              "          document.querySelector('#df-c3a270de-c9a3-43b0-8b29-ee856162c8b9 button.colab-df-convert');\n",
              "        buttonEl.style.display =\n",
              "          google.colab.kernel.accessAllowed ? 'block' : 'none';\n",
              "\n",
              "        async function convertToInteractive(key) {\n",
              "          const element = document.querySelector('#df-c3a270de-c9a3-43b0-8b29-ee856162c8b9');\n",
              "          const dataTable =\n",
              "            await google.colab.kernel.invokeFunction('convertToInteractive',\n",
              "                                                     [key], {});\n",
              "          if (!dataTable) return;\n",
              "\n",
              "          const docLinkHtml = 'Like what you see? Visit the ' +\n",
              "            '<a target=\"_blank\" href=https://colab.research.google.com/notebooks/data_table.ipynb>data table notebook</a>'\n",
              "            + ' to learn more about interactive tables.';\n",
              "          element.innerHTML = '';\n",
              "          dataTable['output_type'] = 'display_data';\n",
              "          await google.colab.output.renderOutput(dataTable, element);\n",
              "          const docLink = document.createElement('div');\n",
              "          docLink.innerHTML = docLinkHtml;\n",
              "          element.appendChild(docLink);\n",
              "        }\n",
              "      </script>\n",
              "    </div>\n",
              "  </div>\n",
              "  "
            ]
          },
          "metadata": {},
          "execution_count": 51
        }
      ]
    },
    {
      "cell_type": "code",
      "source": [
        "df.info()"
      ],
      "metadata": {
        "colab": {
          "base_uri": "https://localhost:8080/"
        },
        "id": "da8MNwS0DJgc",
        "outputId": "057da03d-aa41-4f70-cd8e-88e7ac35ff11"
      },
      "execution_count": null,
      "outputs": [
        {
          "output_type": "stream",
          "name": "stdout",
          "text": [
            "<class 'pandas.core.frame.DataFrame'>\n",
            "RangeIndex: 607 entries, 0 to 606\n",
            "Data columns (total 12 columns):\n",
            " #   Column              Non-Null Count  Dtype \n",
            "---  ------              --------------  ----- \n",
            " 0   Unnamed: 0          607 non-null    int64 \n",
            " 1   work_year           607 non-null    int64 \n",
            " 2   experience_level    607 non-null    object\n",
            " 3   employment_type     607 non-null    object\n",
            " 4   job_title           607 non-null    object\n",
            " 5   salary              607 non-null    int64 \n",
            " 6   salary_currency     607 non-null    object\n",
            " 7   salary_in_usd       607 non-null    int64 \n",
            " 8   employee_residence  607 non-null    object\n",
            " 9   remote_ratio        607 non-null    int64 \n",
            " 10  company_location    607 non-null    object\n",
            " 11  company_size        607 non-null    object\n",
            "dtypes: int64(5), object(7)\n",
            "memory usage: 57.0+ KB\n"
          ]
        }
      ]
    },
    {
      "cell_type": "code",
      "source": [
        "df.isnull().sum()\n"
      ],
      "metadata": {
        "colab": {
          "base_uri": "https://localhost:8080/"
        },
        "id": "MzP3B3NDDOes",
        "outputId": "9b1a1ee5-e76c-43f8-9c3f-2769ead3b671"
      },
      "execution_count": null,
      "outputs": [
        {
          "output_type": "execute_result",
          "data": {
            "text/plain": [
              "Unnamed: 0            0\n",
              "work_year             0\n",
              "experience_level      0\n",
              "employment_type       0\n",
              "job_title             0\n",
              "salary                0\n",
              "salary_currency       0\n",
              "salary_in_usd         0\n",
              "employee_residence    0\n",
              "remote_ratio          0\n",
              "company_location      0\n",
              "company_size          0\n",
              "dtype: int64"
            ]
          },
          "metadata": {},
          "execution_count": 53
        }
      ]
    },
    {
      "cell_type": "code",
      "source": [
        "df.work_year.unique()"
      ],
      "metadata": {
        "colab": {
          "base_uri": "https://localhost:8080/"
        },
        "id": "rkSKQUl-DTMP",
        "outputId": "fea352b6-9e39-4b3c-f4de-364ae694d440"
      },
      "execution_count": null,
      "outputs": [
        {
          "output_type": "execute_result",
          "data": {
            "text/plain": [
              "array([2020, 2021, 2022])"
            ]
          },
          "metadata": {},
          "execution_count": 54
        }
      ]
    },
    {
      "cell_type": "code",
      "source": [
        "df.salary.unique()"
      ],
      "metadata": {
        "colab": {
          "base_uri": "https://localhost:8080/"
        },
        "id": "hOoQLOsJIJUQ",
        "outputId": "7e19f194-2070-46df-96b7-453b47372b62"
      },
      "execution_count": null,
      "outputs": [
        {
          "output_type": "execute_result",
          "data": {
            "text/plain": [
              "array([   70000,   260000,    85000,    20000,   150000,    72000,\n",
              "         190000, 11000000,   135000,   125000,    45000,  3000000,\n",
              "          35000,    87000,     8000,  4450000,   100000,   423000,\n",
              "          56000,   299000,   450000,    42000,    98000,   115000,\n",
              "         325000,   720000,   157000,    51999,    60000,    41000,\n",
              "          65000,   103000,   250000,    10000,   138000,    45760,\n",
              "          44000,   106000,    88000,    14000,   188000,   105000,\n",
              "          61500,    91000,   300000,    48000,   130000,    34000,\n",
              "         118000,   120000,   138350,   110000,   130800,    19000,\n",
              "         412000,    40000,    55000,    43200,   190200,    80000,\n",
              "          37000,   235000,   400000,   270000,    67000,   140000,\n",
              "          68000,    50000,   170000,    75000,  1450000,   276000,\n",
              "        2200000,    12000,    81000,    62000,    73000,    37456,\n",
              "        2250000,    82500,    38400,   225000,    90000,   200000,\n",
              "           8760,   151000,   700000,    24000,  7000000,  8500000,\n",
              "         220000,   240000,    53000,   153000,   160000,   168000,\n",
              "          95000,    13400,   144000,   159500,   230000,    54000,\n",
              "         165000,    51400,   174000,    58000, 30400000,   420000,\n",
              "        1672000,    76760,    22000,     4000,    59000,    74000,\n",
              "         152000,    21844,    18000,   120500,   147000,     9272,\n",
              "        1799997,  4000000,    52000,   195000,    32000,    69600,\n",
              "          21000,   435000,   185000,   180000,  2500000,    40900,\n",
              "         416000,  1200000,   256000,    39600,  1600000,  1335000,\n",
              "          52500,    31000,   108000,   600000,  2100000,    93000,\n",
              "        1250000,  4900000,    21600,    93150,   111775,    72500,\n",
              "         102000,    65720,   112000,    69999,   109000,   155000,\n",
              "         120600,   102100,    84900,   136620,    99360,   146000,\n",
              "         123000,    99000,   116000,   106260,   126500,   242000,\n",
              "          30000,   165220,   120160,    90320,   181940,   132320,\n",
              "         220110,   160080,   124190,   115500,   112900,   165400,\n",
              "         167000,   243900,   136600,   109280,   128875,    93700,\n",
              "         224000,   167875,   175000,   156600,   108800,    95550,\n",
              "         113000,   161342,   137141,   211500,   192400,    90700,\n",
              "          61300,   138600,   136000,   189650,   164996,   132000,\n",
              "         208775,   147800,   136994,   101570,  6000000,    28500,\n",
              "         164000,   145000,   105400,   215300,   158200,   209100,\n",
              "         154600,   115934,    81666,   183600,    63900,   112300,\n",
              "         241000,   159000,    82900,   100800,   140400,  1400000,\n",
              "        2400000,   148000,   104890,   185100,   324000,   216000,\n",
              "         210000,    29000,    52800,    66500,    57000,   121000,\n",
              "         152500,   380000,   405000,   177000,    78000,   214000,\n",
              "         192600,   266400,   213120,   141300,   206699,    99100,\n",
              "         110500,    99050,   205300,   176000,   200100,    70500,\n",
              "         184700,   175100,   140250,   116150,    69000,   150075,\n",
              "          25000,   110925,   192564,   144854,   150260,   154000,\n",
              "         126000,   129000])"
            ]
          },
          "metadata": {},
          "execution_count": 55
        }
      ]
    },
    {
      "cell_type": "code",
      "source": [
        "df.experience_level.unique()"
      ],
      "metadata": {
        "colab": {
          "base_uri": "https://localhost:8080/"
        },
        "id": "HVH_EChNINsV",
        "outputId": "618d8e45-b271-4f1c-fd8e-433f117e74b3"
      },
      "execution_count": null,
      "outputs": [
        {
          "output_type": "execute_result",
          "data": {
            "text/plain": [
              "array(['MI', 'SE', 'EN', 'EX'], dtype=object)"
            ]
          },
          "metadata": {},
          "execution_count": 56
        }
      ]
    },
    {
      "cell_type": "code",
      "source": [
        "df.company_size.unique()"
      ],
      "metadata": {
        "colab": {
          "base_uri": "https://localhost:8080/"
        },
        "id": "kZKJXiAHIUIk",
        "outputId": "0eeb83b6-144c-490e-8afd-c126ef4d9475"
      },
      "execution_count": null,
      "outputs": [
        {
          "output_type": "execute_result",
          "data": {
            "text/plain": [
              "array(['L', 'S', 'M'], dtype=object)"
            ]
          },
          "metadata": {},
          "execution_count": 57
        }
      ]
    },
    {
      "cell_type": "code",
      "source": [
        "df['Unnamed: 0'].unique()"
      ],
      "metadata": {
        "colab": {
          "base_uri": "https://localhost:8080/"
        },
        "id": "_3VoYn4OIr0Q",
        "outputId": "bae46016-4116-4637-9c9f-54b9848d1790"
      },
      "execution_count": null,
      "outputs": [
        {
          "output_type": "execute_result",
          "data": {
            "text/plain": [
              "array([  0,   1,   2,   3,   4,   5,   6,   7,   8,   9,  10,  11,  12,\n",
              "        13,  14,  15,  16,  17,  18,  19,  20,  21,  22,  23,  24,  25,\n",
              "        26,  27,  28,  29,  30,  31,  32,  33,  34,  35,  36,  37,  38,\n",
              "        39,  40,  41,  42,  43,  44,  45,  46,  47,  48,  49,  50,  51,\n",
              "        52,  53,  54,  55,  56,  57,  58,  59,  60,  61,  62,  63,  64,\n",
              "        65,  66,  67,  68,  69,  70,  71,  72,  73,  74,  75,  76,  77,\n",
              "        78,  79,  80,  81,  82,  83,  84,  85,  86,  87,  88,  89,  90,\n",
              "        91,  92,  93,  94,  95,  96,  97,  98,  99, 100, 101, 102, 103,\n",
              "       104, 105, 106, 107, 108, 109, 110, 111, 112, 113, 114, 115, 116,\n",
              "       117, 118, 119, 120, 121, 122, 123, 124, 125, 126, 127, 128, 129,\n",
              "       130, 131, 132, 133, 134, 135, 136, 137, 138, 139, 140, 141, 142,\n",
              "       143, 144, 145, 146, 147, 148, 149, 150, 151, 152, 153, 154, 155,\n",
              "       156, 157, 158, 159, 160, 161, 162, 163, 164, 165, 166, 167, 168,\n",
              "       169, 170, 171, 172, 173, 174, 175, 176, 177, 178, 179, 180, 181,\n",
              "       182, 183, 184, 185, 186, 187, 188, 189, 190, 191, 192, 193, 194,\n",
              "       195, 196, 197, 198, 199, 200, 201, 202, 203, 204, 205, 206, 207,\n",
              "       208, 209, 210, 211, 212, 213, 214, 215, 216, 217, 218, 219, 220,\n",
              "       221, 222, 223, 224, 225, 226, 227, 228, 229, 230, 231, 232, 233,\n",
              "       234, 235, 236, 237, 238, 239, 240, 241, 242, 243, 244, 245, 246,\n",
              "       247, 248, 249, 250, 251, 252, 253, 254, 255, 256, 257, 258, 259,\n",
              "       260, 261, 262, 263, 264, 265, 266, 267, 268, 269, 270, 271, 272,\n",
              "       273, 274, 275, 276, 277, 278, 279, 280, 281, 282, 283, 284, 285,\n",
              "       286, 287, 288, 289, 290, 291, 292, 293, 294, 295, 296, 297, 298,\n",
              "       299, 300, 301, 302, 303, 304, 305, 306, 307, 308, 309, 310, 311,\n",
              "       312, 313, 314, 315, 316, 317, 318, 319, 320, 321, 322, 323, 324,\n",
              "       325, 326, 327, 328, 329, 330, 331, 332, 333, 334, 335, 336, 337,\n",
              "       338, 339, 340, 341, 342, 343, 344, 345, 346, 347, 348, 349, 350,\n",
              "       351, 352, 353, 354, 355, 356, 357, 358, 359, 360, 361, 362, 363,\n",
              "       364, 365, 366, 367, 368, 369, 370, 371, 372, 373, 374, 375, 376,\n",
              "       377, 378, 379, 380, 381, 382, 383, 384, 385, 386, 387, 388, 389,\n",
              "       390, 391, 392, 393, 394, 395, 396, 397, 398, 399, 400, 401, 402,\n",
              "       403, 404, 405, 406, 407, 408, 409, 410, 411, 412, 413, 414, 415,\n",
              "       416, 417, 418, 419, 420, 421, 422, 423, 424, 425, 426, 427, 428,\n",
              "       429, 430, 431, 432, 433, 434, 435, 436, 437, 438, 439, 440, 441,\n",
              "       442, 443, 444, 445, 446, 447, 448, 449, 450, 451, 452, 453, 454,\n",
              "       455, 456, 457, 458, 459, 460, 461, 462, 463, 464, 465, 466, 467,\n",
              "       468, 469, 470, 471, 472, 473, 474, 475, 476, 477, 478, 479, 480,\n",
              "       481, 482, 483, 484, 485, 486, 487, 488, 489, 490, 491, 492, 493,\n",
              "       494, 495, 496, 497, 498, 499, 500, 501, 502, 503, 504, 505, 506,\n",
              "       507, 508, 509, 510, 511, 512, 513, 514, 515, 516, 517, 518, 519,\n",
              "       520, 521, 522, 523, 524, 525, 526, 527, 528, 529, 530, 531, 532,\n",
              "       533, 534, 535, 536, 537, 538, 539, 540, 541, 542, 543, 544, 545,\n",
              "       546, 547, 548, 549, 550, 551, 552, 553, 554, 555, 556, 557, 558,\n",
              "       559, 560, 561, 562, 563, 564, 565, 566, 567, 568, 569, 570, 571,\n",
              "       572, 573, 574, 575, 576, 577, 578, 579, 580, 581, 582, 583, 584,\n",
              "       585, 586, 587, 588, 589, 590, 591, 592, 593, 594, 595, 596, 597,\n",
              "       598, 599, 600, 601, 602, 603, 604, 605, 606])"
            ]
          },
          "metadata": {},
          "execution_count": 58
        }
      ]
    },
    {
      "cell_type": "code",
      "source": [
        "df.drop(['Unnamed: 0'],axis=1,inplace=True)"
      ],
      "metadata": {
        "id": "F8TZK0NTMLRz"
      },
      "execution_count": null,
      "outputs": []
    },
    {
      "cell_type": "code",
      "source": [
        ""
      ],
      "metadata": {
        "id": "YNaPsS71fz6s"
      },
      "execution_count": null,
      "outputs": []
    },
    {
      "cell_type": "code",
      "source": [
        "df.head()"
      ],
      "metadata": {
        "colab": {
          "base_uri": "https://localhost:8080/",
          "height": 409
        },
        "id": "AtZi1plHNAdQ",
        "outputId": "a9e45516-717b-4f43-85bf-02cc031e5956"
      },
      "execution_count": null,
      "outputs": [
        {
          "output_type": "execute_result",
          "data": {
            "text/plain": [
              "   work_year experience_level employment_type                   job_title  \\\n",
              "0       2020               MI              FT              Data Scientist   \n",
              "1       2020               SE              FT  Machine Learning Scientist   \n",
              "2       2020               SE              FT           Big Data Engineer   \n",
              "3       2020               MI              FT        Product Data Analyst   \n",
              "4       2020               SE              FT   Machine Learning Engineer   \n",
              "\n",
              "   salary salary_currency  salary_in_usd employee_residence  remote_ratio  \\\n",
              "0   70000             EUR          79833                 DE             0   \n",
              "1  260000             USD         260000                 JP             0   \n",
              "2   85000             GBP         109024                 GB            50   \n",
              "3   20000             USD          20000                 HN             0   \n",
              "4  150000             USD         150000                 US            50   \n",
              "\n",
              "  company_location company_size  \n",
              "0               DE            L  \n",
              "1               JP            S  \n",
              "2               GB            M  \n",
              "3               HN            S  \n",
              "4               US            L  "
            ],
            "text/html": [
              "\n",
              "  <div id=\"df-903890e2-12b2-41b9-9302-ac6b48ca2daa\">\n",
              "    <div class=\"colab-df-container\">\n",
              "      <div>\n",
              "<style scoped>\n",
              "    .dataframe tbody tr th:only-of-type {\n",
              "        vertical-align: middle;\n",
              "    }\n",
              "\n",
              "    .dataframe tbody tr th {\n",
              "        vertical-align: top;\n",
              "    }\n",
              "\n",
              "    .dataframe thead th {\n",
              "        text-align: right;\n",
              "    }\n",
              "</style>\n",
              "<table border=\"1\" class=\"dataframe\">\n",
              "  <thead>\n",
              "    <tr style=\"text-align: right;\">\n",
              "      <th></th>\n",
              "      <th>work_year</th>\n",
              "      <th>experience_level</th>\n",
              "      <th>employment_type</th>\n",
              "      <th>job_title</th>\n",
              "      <th>salary</th>\n",
              "      <th>salary_currency</th>\n",
              "      <th>salary_in_usd</th>\n",
              "      <th>employee_residence</th>\n",
              "      <th>remote_ratio</th>\n",
              "      <th>company_location</th>\n",
              "      <th>company_size</th>\n",
              "    </tr>\n",
              "  </thead>\n",
              "  <tbody>\n",
              "    <tr>\n",
              "      <th>0</th>\n",
              "      <td>2020</td>\n",
              "      <td>MI</td>\n",
              "      <td>FT</td>\n",
              "      <td>Data Scientist</td>\n",
              "      <td>70000</td>\n",
              "      <td>EUR</td>\n",
              "      <td>79833</td>\n",
              "      <td>DE</td>\n",
              "      <td>0</td>\n",
              "      <td>DE</td>\n",
              "      <td>L</td>\n",
              "    </tr>\n",
              "    <tr>\n",
              "      <th>1</th>\n",
              "      <td>2020</td>\n",
              "      <td>SE</td>\n",
              "      <td>FT</td>\n",
              "      <td>Machine Learning Scientist</td>\n",
              "      <td>260000</td>\n",
              "      <td>USD</td>\n",
              "      <td>260000</td>\n",
              "      <td>JP</td>\n",
              "      <td>0</td>\n",
              "      <td>JP</td>\n",
              "      <td>S</td>\n",
              "    </tr>\n",
              "    <tr>\n",
              "      <th>2</th>\n",
              "      <td>2020</td>\n",
              "      <td>SE</td>\n",
              "      <td>FT</td>\n",
              "      <td>Big Data Engineer</td>\n",
              "      <td>85000</td>\n",
              "      <td>GBP</td>\n",
              "      <td>109024</td>\n",
              "      <td>GB</td>\n",
              "      <td>50</td>\n",
              "      <td>GB</td>\n",
              "      <td>M</td>\n",
              "    </tr>\n",
              "    <tr>\n",
              "      <th>3</th>\n",
              "      <td>2020</td>\n",
              "      <td>MI</td>\n",
              "      <td>FT</td>\n",
              "      <td>Product Data Analyst</td>\n",
              "      <td>20000</td>\n",
              "      <td>USD</td>\n",
              "      <td>20000</td>\n",
              "      <td>HN</td>\n",
              "      <td>0</td>\n",
              "      <td>HN</td>\n",
              "      <td>S</td>\n",
              "    </tr>\n",
              "    <tr>\n",
              "      <th>4</th>\n",
              "      <td>2020</td>\n",
              "      <td>SE</td>\n",
              "      <td>FT</td>\n",
              "      <td>Machine Learning Engineer</td>\n",
              "      <td>150000</td>\n",
              "      <td>USD</td>\n",
              "      <td>150000</td>\n",
              "      <td>US</td>\n",
              "      <td>50</td>\n",
              "      <td>US</td>\n",
              "      <td>L</td>\n",
              "    </tr>\n",
              "  </tbody>\n",
              "</table>\n",
              "</div>\n",
              "      <button class=\"colab-df-convert\" onclick=\"convertToInteractive('df-903890e2-12b2-41b9-9302-ac6b48ca2daa')\"\n",
              "              title=\"Convert this dataframe to an interactive table.\"\n",
              "              style=\"display:none;\">\n",
              "        \n",
              "  <svg xmlns=\"http://www.w3.org/2000/svg\" height=\"24px\"viewBox=\"0 0 24 24\"\n",
              "       width=\"24px\">\n",
              "    <path d=\"M0 0h24v24H0V0z\" fill=\"none\"/>\n",
              "    <path d=\"M18.56 5.44l.94 2.06.94-2.06 2.06-.94-2.06-.94-.94-2.06-.94 2.06-2.06.94zm-11 1L8.5 8.5l.94-2.06 2.06-.94-2.06-.94L8.5 2.5l-.94 2.06-2.06.94zm10 10l.94 2.06.94-2.06 2.06-.94-2.06-.94-.94-2.06-.94 2.06-2.06.94z\"/><path d=\"M17.41 7.96l-1.37-1.37c-.4-.4-.92-.59-1.43-.59-.52 0-1.04.2-1.43.59L10.3 9.45l-7.72 7.72c-.78.78-.78 2.05 0 2.83L4 21.41c.39.39.9.59 1.41.59.51 0 1.02-.2 1.41-.59l7.78-7.78 2.81-2.81c.8-.78.8-2.07 0-2.86zM5.41 20L4 18.59l7.72-7.72 1.47 1.35L5.41 20z\"/>\n",
              "  </svg>\n",
              "      </button>\n",
              "      \n",
              "  <style>\n",
              "    .colab-df-container {\n",
              "      display:flex;\n",
              "      flex-wrap:wrap;\n",
              "      gap: 12px;\n",
              "    }\n",
              "\n",
              "    .colab-df-convert {\n",
              "      background-color: #E8F0FE;\n",
              "      border: none;\n",
              "      border-radius: 50%;\n",
              "      cursor: pointer;\n",
              "      display: none;\n",
              "      fill: #1967D2;\n",
              "      height: 32px;\n",
              "      padding: 0 0 0 0;\n",
              "      width: 32px;\n",
              "    }\n",
              "\n",
              "    .colab-df-convert:hover {\n",
              "      background-color: #E2EBFA;\n",
              "      box-shadow: 0px 1px 2px rgba(60, 64, 67, 0.3), 0px 1px 3px 1px rgba(60, 64, 67, 0.15);\n",
              "      fill: #174EA6;\n",
              "    }\n",
              "\n",
              "    [theme=dark] .colab-df-convert {\n",
              "      background-color: #3B4455;\n",
              "      fill: #D2E3FC;\n",
              "    }\n",
              "\n",
              "    [theme=dark] .colab-df-convert:hover {\n",
              "      background-color: #434B5C;\n",
              "      box-shadow: 0px 1px 3px 1px rgba(0, 0, 0, 0.15);\n",
              "      filter: drop-shadow(0px 1px 2px rgba(0, 0, 0, 0.3));\n",
              "      fill: #FFFFFF;\n",
              "    }\n",
              "  </style>\n",
              "\n",
              "      <script>\n",
              "        const buttonEl =\n",
              "          document.querySelector('#df-903890e2-12b2-41b9-9302-ac6b48ca2daa button.colab-df-convert');\n",
              "        buttonEl.style.display =\n",
              "          google.colab.kernel.accessAllowed ? 'block' : 'none';\n",
              "\n",
              "        async function convertToInteractive(key) {\n",
              "          const element = document.querySelector('#df-903890e2-12b2-41b9-9302-ac6b48ca2daa');\n",
              "          const dataTable =\n",
              "            await google.colab.kernel.invokeFunction('convertToInteractive',\n",
              "                                                     [key], {});\n",
              "          if (!dataTable) return;\n",
              "\n",
              "          const docLinkHtml = 'Like what you see? Visit the ' +\n",
              "            '<a target=\"_blank\" href=https://colab.research.google.com/notebooks/data_table.ipynb>data table notebook</a>'\n",
              "            + ' to learn more about interactive tables.';\n",
              "          element.innerHTML = '';\n",
              "          dataTable['output_type'] = 'display_data';\n",
              "          await google.colab.output.renderOutput(dataTable, element);\n",
              "          const docLink = document.createElement('div');\n",
              "          docLink.innerHTML = docLinkHtml;\n",
              "          element.appendChild(docLink);\n",
              "        }\n",
              "      </script>\n",
              "    </div>\n",
              "  </div>\n",
              "  "
            ]
          },
          "metadata": {},
          "execution_count": 60
        }
      ]
    },
    {
      "cell_type": "code",
      "source": [
        "df.remote_ratio.unique()"
      ],
      "metadata": {
        "colab": {
          "base_uri": "https://localhost:8080/"
        },
        "id": "8_9XSVEUNSID",
        "outputId": "01bf3cae-16e0-483f-e5e1-5d739a7f6e61"
      },
      "execution_count": null,
      "outputs": [
        {
          "output_type": "execute_result",
          "data": {
            "text/plain": [
              "array([  0,  50, 100])"
            ]
          },
          "metadata": {},
          "execution_count": 61
        }
      ]
    },
    {
      "cell_type": "code",
      "source": [
        "df.employee_residence.unique()"
      ],
      "metadata": {
        "colab": {
          "base_uri": "https://localhost:8080/"
        },
        "id": "tPqn1CQKNrTg",
        "outputId": "eb31863c-c3d7-4c67-fff1-0d415901221a"
      },
      "execution_count": null,
      "outputs": [
        {
          "output_type": "execute_result",
          "data": {
            "text/plain": [
              "array(['DE', 'JP', 'GB', 'HN', 'US', 'HU', 'NZ', 'FR', 'IN', 'PK', 'PL',\n",
              "       'PT', 'CN', 'GR', 'AE', 'NL', 'MX', 'CA', 'AT', 'NG', 'PH', 'ES',\n",
              "       'DK', 'RU', 'IT', 'HR', 'BG', 'SG', 'BR', 'IQ', 'VN', 'BE', 'UA',\n",
              "       'MT', 'CL', 'RO', 'IR', 'CO', 'MD', 'KE', 'SI', 'HK', 'TR', 'RS',\n",
              "       'PR', 'LU', 'JE', 'CZ', 'AR', 'DZ', 'TN', 'MY', 'EE', 'AU', 'BO',\n",
              "       'IE', 'CH'], dtype=object)"
            ]
          },
          "metadata": {},
          "execution_count": 62
        }
      ]
    },
    {
      "cell_type": "code",
      "source": [
        "df.hist()\n",
        "plt.show()"
      ],
      "metadata": {
        "colab": {
          "base_uri": "https://localhost:8080/",
          "height": 281
        },
        "id": "dHeSvM8KsPiQ",
        "outputId": "a15b854e-8c2e-458c-9c96-e7967b402408"
      },
      "execution_count": null,
      "outputs": [
        {
          "output_type": "display_data",
          "data": {
            "text/plain": [
              "<Figure size 432x288 with 4 Axes>"
            ],
            "image/png": "[encoded data removed]"
          },
          "metadata": {
            "needs_background": "light"
          }
        }
      ]
    },
    {
      "cell_type": "code",
      "source": [
        "sns.barplot(data = df)"
      ],
      "metadata": {
        "colab": {
          "base_uri": "https://localhost:8080/",
          "height": 283
        },
        "id": "SQbp7sP-t9tB",
        "outputId": "331c0018-a71a-409a-edfd-f4d573d2bf8f"
      },
      "execution_count": null,
      "outputs": [
        {
          "output_type": "execute_result",
          "data": {
            "text/plain": [
              "<matplotlib.axes._subplots.AxesSubplot at 0x7fb4a68e5550>"
            ]
          },
          "metadata": {},
          "execution_count": 64
        },
        {
          "output_type": "display_data",
          "data": {
            "text/plain": [
              "<Figure size 432x288 with 1 Axes>"
            ],
            "image/png": "[encoded data removed]"
          },
          "metadata": {
            "needs_background": "light"
          }
        }
      ]
    },
    {
      "cell_type": "code",
      "source": [
        "df.plot(kind = 'box',layout=(3,3),subplots=True,figsize=[10,8])\n"
      ],
      "metadata": {
        "colab": {
          "base_uri": "https://localhost:8080/",
          "height": 428
        },
        "id": "zPxZ4ZtUuE8l",
        "outputId": "3315c299-b7d9-4796-f8e8-76a2ec31a8e8"
      },
      "execution_count": null,
      "outputs": [
        {
          "output_type": "execute_result",
          "data": {
            "text/plain": [
              "work_year           AxesSubplot(0.125,0.657941;0.227941x0.222059)\n",
              "salary           AxesSubplot(0.398529,0.657941;0.227941x0.222059)\n",
              "salary_in_usd    AxesSubplot(0.672059,0.657941;0.227941x0.222059)\n",
              "remote_ratio        AxesSubplot(0.125,0.391471;0.227941x0.222059)\n",
              "dtype: object"
            ]
          },
          "metadata": {},
          "execution_count": 77
        },
        {
          "output_type": "display_data",
          "data": {
            "text/plain": [
              "<Figure size 720x576 with 9 Axes>"
            ],
            "image/png": "[encoded data removed]"
          },
          "metadata": {
            "needs_background": "light"
          }
        }
      ]
    },
    {
      "cell_type": "code",
      "source": [
        "sns.scatterplot(data=df,x='salary',y='experience_level')"
      ],
      "metadata": {
        "colab": {
          "base_uri": "https://localhost:8080/",
          "height": 296
        },
        "id": "zC1NWICBvMEF",
        "outputId": "a35d8629-3d5e-4a62-fb6d-b270c9718c68"
      },
      "execution_count": null,
      "outputs": [
        {
          "output_type": "execute_result",
          "data": {
            "text/plain": [
              "<matplotlib.axes._subplots.AxesSubplot at 0x7fb4a4eac3d0>"
            ]
          },
          "metadata": {},
          "execution_count": 79
        },
        {
          "output_type": "display_data",
          "data": {
            "text/plain": [
              "<Figure size 432x288 with 1 Axes>"
            ],
            "image/png": "[encoded data removed]"
          },
          "metadata": {
            "needs_background": "light"
          }
        }
      ]
    },
    {
      "cell_type": "code",
      "source": [
        "text = \" \".join(j for j in df['job_title'])\n",
        "word_cloud = WordCloud(collocations = False, background_color = 'white').generate(text)\n",
        "plt.figure(figsize=[10,8])\n",
        "\n",
        "plt.imshow(word_cloud, interpolation='bilinear')\n",
        "plt.axis(\"off\")\n",
        "plt.show()\n"
      ],
      "metadata": {
        "colab": {
          "base_uri": "https://localhost:8080/",
          "height": 310
        },
        "id": "Gv6fL0-U4y8p",
        "outputId": "5f8b2fed-a4ab-407a-b8c2-4f39363ab597"
      },
      "execution_count": null,
      "outputs": [
        {
          "output_type": "display_data",
          "data": {
            "text/plain": [
              "<Figure size 720x576 with 1 Axes>"
            ],
            "image/png": "[encoded data removed]"
          },
          "metadata": {
            "needs_background": "light"
          }
        }
      ]
    },
    {
      "cell_type": "code",
      "source": [
        "corr=df.corr()\n",
        "corr.salary.sort_values"
      ],
      "metadata": {
        "colab": {
          "base_uri": "https://localhost:8080/"
        },
        "id": "8MVpCrHb5Qbq",
        "outputId": "5519494a-2b04-4446-fcd8-b353e8f451c0"
      },
      "execution_count": null,
      "outputs": [
        {
          "output_type": "execute_result",
          "data": {
            "text/plain": [
              "<bound method Series.sort_values of work_year       -0.087577\n",
              "salary           1.000000\n",
              "salary_in_usd   -0.083906\n",
              "remote_ratio    -0.014608\n",
              "Name: salary, dtype: float64>"
            ]
          },
          "metadata": {},
          "execution_count": 81
        }
      ]
    },
    {
      "cell_type": "code",
      "source": [
        "sns.heatmap(corr,annot=True)"
      ],
      "metadata": {
        "colab": {
          "base_uri": "https://localhost:8080/",
          "height": 287
        },
        "id": "xdHfvABx8WdG",
        "outputId": "9f44971d-3ab6-4ce5-ff0e-be8b032384e1"
      },
      "execution_count": null,
      "outputs": [
        {
          "output_type": "execute_result",
          "data": {
            "text/plain": [
              "<matplotlib.axes._subplots.AxesSubplot at 0x7fb4ac17fd50>"
            ]
          },
          "metadata": {},
          "execution_count": 87
        },
        {
          "output_type": "display_data",
          "data": {
            "text/plain": [
              "<Figure size 432x288 with 2 Axes>"
            ],
            "image/png": "[encoded data removed]"
          },
          "metadata": {
            "needs_background": "light"
          }
        }
      ]
    },
    {
      "cell_type": "code",
      "source": [
        "from sklearn.model_selection import train_test_split\n",
        "x=df.drop(['salary'],axis=1).values\n",
        "y=df['salary'].values\n",
        "x_train,y_train,x_test,y_test=train_test_split(x,y,test_size=0.30,random_state=0)"
      ],
      "metadata": {
        "id": "0ykAPGfJ8n6S"
      },
      "execution_count": 122,
      "outputs": []
    },
    {
      "cell_type": "code",
      "source": [
        "type(df['salary'].values)#faster"
      ],
      "metadata": {
        "colab": {
          "base_uri": "https://localhost:8080/"
        },
        "id": "Q3eVrDEB9HGy",
        "outputId": "9e6df93c-bbd8-4cbe-d16c-f28e83bb368e"
      },
      "execution_count": 123,
      "outputs": [
        {
          "output_type": "execute_result",
          "data": {
            "text/plain": [
              "numpy.ndarray"
            ]
          },
          "metadata": {},
          "execution_count": 123
        }
      ]
    },
    {
      "cell_type": "code",
      "source": [
        "from sklearn.preprocessing import OneHotEncoder\n",
        "from sklearn.pipeline import Pipeline\n",
        "\n",
        "pip = Pipeline([\n",
        "    ('one_hot_cat',OneHotEncoder())\n",
        "])\n",
        " \n",
        "t_pip = pip.fit_transform(x)"
      ],
      "metadata": {
        "id": "pq0mGCeM9W_6"
      },
      "execution_count": 132,
      "outputs": []
    },
    {
      "cell_type": "code",
      "source": [
        "from sklearn.linear_model import LinearRegression\n",
        "le = LinearRegression()\n",
        "le.fit(t_pip,y)"
      ],
      "metadata": {
        "colab": {
          "base_uri": "https://localhost:8080/"
        },
        "id": "K6W4Wapl_Gcx",
        "outputId": "70828ca1-5150-48b4-ff5b-365ab0935931"
      },
      "execution_count": 133,
      "outputs": [
        {
          "output_type": "execute_result",
          "data": {
            "text/plain": [
              "LinearRegression()"
            ]
          },
          "metadata": {},
          "execution_count": 133
        }
      ]
    },
    {
      "cell_type": "code",
      "source": [
        "x_test = df.drop('salary',axis=1).values\n",
        "y_test = df['salary'].values"
      ],
      "metadata": {
        "id": "rI2wZ4-BCxuB"
      },
      "execution_count": 149,
      "outputs": []
    },
    {
      "cell_type": "code",
      "source": [
        "te_pip = pip.fit_transform(x_test)\n",
        "le.fit(te_pip,y_test)\n",
        "pred = le.predict(te_pip)\n",
        "pred"
      ],
      "metadata": {
        "colab": {
          "base_uri": "https://localhost:8080/"
        },
        "id": "75W27vZwDQHs",
        "outputId": "80c2b2cc-bc6e-4f05-d7ea-17ce554d6f5e"
      },
      "execution_count": 153,
      "outputs": [
        {
          "output_type": "execute_result",
          "data": {
            "text/plain": [
              "array([7.00111153e+04, 2.59998732e+05, 8.49993228e+04, 1.99993654e+04,\n",
              "       1.50002815e+05, 7.19998937e+04, 1.89999498e+05, 1.09999994e+07,\n",
              "       1.35001385e+05, 1.24999263e+05, 4.50002780e+04, 2.99999975e+06,\n",
              "       3.49999452e+04, 8.70001617e+04, 8.50004353e+04, 8.00068810e+03,\n",
              "       4.44999953e+06, 9.99996110e+04, 4.22999785e+05, 5.60002866e+04,\n",
              "       2.99000069e+05, 4.49999641e+05, 4.19994307e+04, 9.79993916e+04,\n",
              "       1.15000204e+05, 3.25000277e+05, 4.20000367e+04, 7.19999881e+05,\n",
              "       9.99969561e+04, 1.56999813e+05, 5.19996535e+04, 7.00013270e+04,\n",
              "       5.99993698e+04, 4.49999606e+05, 4.10003434e+04, 6.50000552e+04,\n",
              "       1.03000308e+05, 2.50002286e+05, 9.99744500e+03, 1.37999970e+05,\n",
              "       4.57590910e+04, 6.99884015e+04, 4.39992996e+04, 1.06000046e+05,\n",
              "       8.80001925e+04, 1.39991490e+04, 6.00001642e+04, 1.87999958e+05,\n",
              "       1.04999340e+05, 6.15003447e+04, 4.49999652e+05, 9.09998937e+04,\n",
              "       2.99999338e+05, 4.80011690e+04, 5.99993276e+04, 1.29999172e+05,\n",
              "       3.39994620e+04, 1.17999561e+05, 1.20001160e+05, 1.38349561e+05,\n",
              "       1.09998633e+05, 1.30800898e+05, 1.89999557e+04, 4.11999636e+05,\n",
              "       3.99997219e+04, 5.50006421e+04, 4.31993606e+04, 1.90199159e+05,\n",
              "       1.04997040e+05, 8.00000516e+04, 5.50001066e+04, 3.70001920e+04,\n",
              "       5.99990183e+04, 1.49997693e+05, 2.35001935e+05, 4.50002055e+04,\n",
              "       9.99942178e+04, 4.00000076e+05, 2.70001508e+05, 8.00008774e+04,\n",
              "       6.69998322e+04, 1.39997677e+05, 6.79996895e+04, 4.00002925e+04,\n",
              "       1.30001663e+05, 1.10000276e+05, 4.99998766e+04, 1.09997164e+05,\n",
              "       1.69998072e+05, 8.00003726e+04, 7.50000560e+04, 6.49985404e+04,\n",
              "       1.45000035e+06, 2.76000053e+05, 2.19999963e+06, 1.19999739e+05,\n",
              "       1.20076500e+04, 4.49999809e+05, 6.99976627e+04, 8.10003902e+04,\n",
              "       7.50023541e+04, 1.49997892e+05, 1.10000002e+07, 6.20004278e+04,\n",
              "       7.30001074e+04, 3.74564616e+04, 2.35000488e+05, 1.14995431e+05,\n",
              "       1.49998228e+05, 2.25000008e+06, 7.99995154e+04, 8.25005539e+04,\n",
              "       7.50003806e+04, 1.19984792e+04, 3.84002176e+04, 2.24993064e+05,\n",
              "       5.00032937e+04, 3.39997667e+04, 8.99992363e+04, 1.99997143e+05,\n",
              "       6.00001413e+04, 2.00001149e+05, 4.99952604e+04, 8.00001209e+04,\n",
              "       8.75927180e+03, 1.51000189e+05, 1.20000003e+05, 7.00000193e+05,\n",
              "       1.99960785e+04, 2.99999939e+06, 1.00000123e+05, 4.19999785e+04,\n",
              "       3.83999323e+04, 2.40013574e+04, 9.99981244e+04, 9.00018716e+04,\n",
              "       6.99999991e+06, 8.49999991e+06, 2.20002388e+05, 8.00008843e+04,\n",
              "       1.34998376e+05, 2.39999706e+05, 1.50006462e+05, 8.25001638e+04,\n",
              "       1.00000569e+05, 7.00008437e+04, 5.30003859e+04, 9.00010241e+04,\n",
              "       1.53001430e+05, 1.60000303e+05, 1.68000678e+05, 1.49997924e+05,\n",
              "       9.50002317e+04, 1.34004584e+04, 1.44003636e+05, 1.59500358e+05,\n",
              "       1.60000217e+05, 4.23000073e+05, 1.20000993e+05, 1.25002091e+05,\n",
              "       2.30000697e+05, 8.49994033e+04, 2.40004011e+04, 5.39990271e+04,\n",
              "       1.09999765e+05, 1.64998823e+05, 8.00000299e+04, 2.49998518e+05,\n",
              "       5.50089846e+04, 1.50000493e+05, 1.70000855e+05, 5.99995313e+04,\n",
              "       5.99971608e+04, 2.34997820e+05, 5.13992860e+04, 1.74001924e+05,\n",
              "       5.79999181e+04, 3.04000000e+07, 8.10001156e+04, 4.19999067e+05,\n",
              "       1.67199973e+06, 7.67593100e+04, 2.20008079e+04, 4.49995316e+04,\n",
              "       1.19965956e+04, 3.99926842e+03, 4.99999862e+04, 5.90020085e+04,\n",
              "       6.49994506e+04, 7.40004168e+04, 1.52000202e+05, 2.18437486e+04,\n",
              "       1.79990798e+04, 1.73998168e+05, 1.20500276e+05, 1.46999870e+05,\n",
              "       9.27151288e+03, 1.79999705e+06, 3.99999837e+06, 8.99962655e+04,\n",
              "       5.19986783e+04, 1.95000122e+05, 3.19998962e+04, 5.00063968e+04,\n",
              "       1.59998746e+05, 6.95998193e+04, 2.00001153e+05, 1.64998797e+05,\n",
              "       1.99991901e+04, 1.19999993e+05, 2.09997811e+04, 4.80007187e+04,\n",
              "       4.80014738e+04, 4.34999442e+05, 2.09999367e+04, 1.84997464e+05,\n",
              "       1.80000947e+05, 7.67593100e+04, 7.50005298e+04, 1.40000250e+05,\n",
              "       1.80000181e+05, 8.50001411e+04, 2.49999986e+06, 4.09001412e+04,\n",
              "       2.25008154e+05, 4.16001678e+05, 1.10000313e+05, 7.49973786e+04,\n",
              "       1.34998540e+05, 9.00003004e+04, 1.19999946e+06, 2.56000482e+05,\n",
              "       2.00000455e+05, 1.99998477e+05, 1.80000814e+05, 1.10001444e+05,\n",
              "       8.00003242e+04, 3.95997324e+04, 4.00042614e+03, 1.59999979e+06,\n",
              "       1.30000144e+05, 7.99981743e+04, 1.09999244e+05, 1.64999644e+05,\n",
              "       1.33499907e+06, 5.25004629e+04, 3.10001424e+04, 1.08000460e+05,\n",
              "       7.00003750e+04, 1.70001494e+05, 1.15002141e+05, 8.99992431e+04,\n",
              "       5.99998594e+05, 2.09999960e+06, 9.30003152e+04, 1.25000853e+05,\n",
              "       1.99997143e+05, 1.46999443e+05, 1.85000149e+05, 1.20000166e+05,\n",
              "       1.30001386e+05, 5.40004521e+04, 1.25000008e+06, 4.90000016e+06,\n",
              "       2.16010531e+04, 1.59999884e+05, 9.31502653e+04, 1.11775265e+05,\n",
              "       2.50000347e+05, 5.49993829e+04, 7.25001655e+04, 1.01999897e+05,\n",
              "       6.50025438e+04, 8.50032123e+04, 6.57200417e+04, 1.00003791e+05,\n",
              "       5.80063186e+04, 5.49902929e+04, 1.79999977e+05, 4.99996954e+04,\n",
              "       1.12000316e+05, 9.99999788e+04, 5.89992045e+04, 1.05000185e+05,\n",
              "       6.99984996e+04, 6.99999938e+06, 8.69998506e+04, 1.08999870e+05,\n",
              "       4.32009410e+04, 1.34999949e+05, 1.55000147e+05, 1.20600083e+05,\n",
              "       1.29999640e+05, 9.00021425e+04, 1.69998696e+05, 1.49998334e+05,\n",
              "       1.02100788e+05, 8.49000833e+04, 1.36619763e+05, 9.93597629e+04,\n",
              "       9.00001992e+04, 7.99999342e+04, 1.45999763e+05, 1.23000087e+05,\n",
              "       4.00014386e+04, 9.89996658e+04, 1.16000196e+05, 1.06259111e+05,\n",
              "       1.26499086e+05, 2.42000386e+05, 2.00001572e+05, 4.99997965e+04,\n",
              "       2.99993265e+04, 5.99991601e+04, 3.99984068e+04, 1.65219763e+05,\n",
              "       3.50015189e+04, 1.20159763e+05, 9.03203074e+04, 1.81940197e+05,\n",
              "       1.32319531e+05, 2.20109529e+05, 1.60079604e+05, 1.79998996e+05,\n",
              "       1.19999689e+05, 1.24190083e+05, 1.30003463e+05, 1.10004186e+05,\n",
              "       1.70000030e+05, 1.15500171e+05, 1.12899921e+05, 9.03203074e+04,\n",
              "       1.12899921e+05, 9.03203074e+04, 1.65399984e+05, 1.32320195e+05,\n",
              "       1.66999608e+05, 2.43900085e+05, 1.36600083e+05, 1.09279086e+05,\n",
              "       1.28874628e+05, 9.36996714e+04, 2.23999755e+05, 1.67874755e+05,\n",
              "       1.75001319e+05, 1.56600085e+05, 1.08800197e+05, 9.55498755e+04,\n",
              "       1.13000361e+05, 1.35000461e+05, 1.61341449e+05, 1.37140450e+05,\n",
              "       1.67000437e+05, 1.23000087e+05, 5.99999821e+04, 5.00000996e+04,\n",
              "       1.49999010e+05, 2.11499763e+05, 1.92400066e+05, 9.07000664e+04,\n",
              "       1.29997876e+05, 6.13004009e+04, 1.29997876e+05, 6.13004009e+04,\n",
              "       1.59999313e+05, 1.38599763e+05, 1.36000197e+05, 5.79971951e+04,\n",
              "       1.35001930e+05, 1.70000037e+05, 1.23000087e+05, 1.89650393e+05,\n",
              "       1.64996424e+05, 5.00002711e+04, 5.00002711e+04, 1.50000668e+05,\n",
              "       1.32000196e+05, 1.65399984e+05, 2.08774537e+05, 1.47799537e+05,\n",
              "       1.36994085e+05, 1.01570085e+05, 1.28875140e+05, 9.37001835e+04,\n",
              "       5.99999978e+06, 1.32320195e+05, 2.85003616e+04, 1.64000196e+05,\n",
              "       1.54999635e+05, 9.50004614e+04, 7.50020846e+04, 1.20001040e+05,\n",
              "       1.12899921e+05, 9.03203074e+04, 1.45000682e+05, 1.05398701e+05,\n",
              "       7.99911689e+04, 8.99988583e+04, 2.15300121e+05, 1.58199927e+05,\n",
              "       2.09099764e+05, 1.54599832e+05, 1.15933367e+05, 8.16654099e+04,\n",
              "       1.74999339e+05, 7.49988963e+04, 5.79971951e+04, 1.83600248e+05,\n",
              "       3.99995830e+04, 1.79999996e+05, 5.50002342e+04, 3.49990060e+04,\n",
              "       5.99983957e+04, 4.49984144e+04, 5.99998242e+04, 4.50004433e+04,\n",
              "       2.60001455e+05, 6.00003170e+04, 6.39002851e+04, 1.60002574e+05,\n",
              "       1.12302210e+05, 2.40999537e+05, 1.58999537e+05, 1.79999331e+05,\n",
              "       7.99996027e+04, 8.29002851e+04, 1.00800248e+05, 4.50014414e+04,\n",
              "       1.40400169e+05, 2.99999837e+04, 4.00011558e+04, 3.00021163e+04,\n",
              "       8.00070980e+04, 7.00014103e+04, 7.99992574e+04, 6.99998238e+04,\n",
              "       6.00014227e+04, 8.00040710e+04, 1.89650393e+05, 1.64996424e+05,\n",
              "       3.99981288e+04, 2.99990892e+04, 7.49995604e+04, 5.99998242e+04,\n",
              "       2.15299457e+05, 6.99983832e+04, 2.09099764e+05, 1.54599832e+05,\n",
              "       1.79999477e+05, 1.99995173e+04, 7.99997479e+04, 9.99990881e+04,\n",
              "       2.50000680e+05, 1.19997533e+05, 1.24996849e+05, 2.39999454e+05,\n",
              "       1.05001517e+05, 7.99976272e+04, 1.39999971e+06, 2.39999993e+06,\n",
              "       5.29995166e+04, 1.00000248e+05, 4.99999930e+04, 1.39999846e+06,\n",
              "       1.47999462e+05, 1.20001716e+05, 1.43996206e+05, 1.04889763e+05,\n",
              "       1.00002655e+05, 1.40000282e+05, 1.34999639e+05, 4.99938209e+04,\n",
              "       2.19997385e+05, 1.40000282e+05, 1.40000234e+05, 6.99996785e+04,\n",
              "       1.85099763e+05, 2.20000054e+05, 1.99998925e+05, 1.19999867e+05,\n",
              "       1.19999065e+05, 6.50011434e+04, 3.24000386e+05, 2.16000386e+05,\n",
              "       2.09999731e+05, 1.20003358e+05, 2.30000068e+05, 1.00000107e+05,\n",
              "       1.00006415e+05, 2.90013193e+04, 2.00000404e+05, 7.49984274e+04,\n",
              "       1.49999974e+05, 9.99999101e+04, 9.99911045e+04, 1.52998402e+05,\n",
              "       5.28012954e+04, 1.65000908e+05, 8.50004816e+04, 6.65001005e+04,\n",
              "       5.70000551e+04, 2.99987640e+04, 4.00001661e+04, 1.20999856e+05,\n",
              "       1.15001362e+05, 1.19999189e+05, 7.49994716e+04, 5.90005170e+04,\n",
              "       1.19996154e+05, 1.56999908e+05, 1.50001852e+05, 9.00008479e+04,\n",
              "       6.49987910e+04, 6.50001592e+04, 2.00022105e+04, 4.80013189e+04,\n",
              "       1.52499449e+05, 6.20005955e+04, 1.14999883e+05, 3.79999820e+05,\n",
              "       8.80000877e+04, 1.00024638e+04, 2.00046942e+04, 4.04999831e+05,\n",
              "       1.34999311e+05, 1.76999820e+05, 7.79998507e+04, 1.35000461e+05,\n",
              "       1.00003167e+05, 9.03203074e+04, 8.49984022e+04, 7.50003742e+04,\n",
              "       2.13999990e+05, 1.92599990e+05, 2.66399537e+05, 2.13119537e+05,\n",
              "       1.12899921e+05, 1.54999635e+05, 1.41299963e+05, 1.02099309e+05,\n",
              "       1.15934031e+05, 8.16660740e+04, 2.06699285e+05, 9.91002851e+04,\n",
              "       1.30000607e+05, 1.15001362e+05, 1.10500085e+05, 1.30000607e+05,\n",
              "       9.90500833e+04, 1.60000313e+05, 2.05300506e+05, 1.40400169e+05,\n",
              "       1.75999763e+05, 1.43999941e+05, 2.00100085e+05, 1.60000313e+05,\n",
              "       1.44998931e+05, 7.05001973e+04, 2.05300841e+05, 1.40400504e+05,\n",
              "       2.05299959e+05, 1.84698961e+05, 1.75100085e+05, 1.40250085e+05,\n",
              "       1.16150083e+05, 5.40001973e+04, 1.70000030e+05, 4.99997896e+04,\n",
              "       8.00002600e+04, 1.40000282e+05, 2.10000250e+05, 1.40000282e+05,\n",
              "       1.00003167e+05, 6.90000833e+04, 2.10000250e+05, 1.40000282e+05,\n",
              "       2.10000250e+05, 1.50075083e+05, 1.00002655e+05, 2.50000847e+04,\n",
              "       1.26500572e+05, 1.06260597e+05, 2.20110193e+05, 1.60080268e+05,\n",
              "       1.05002029e+05, 1.10925083e+05, 3.49989991e+04, 1.40000282e+05,\n",
              "       9.89996658e+04, 6.00015463e+04, 1.92563537e+05, 1.44853537e+05,\n",
              "       2.30000068e+05, 1.49999675e+05, 1.50258701e+05, 1.09280325e+05,\n",
              "       2.10000250e+05, 1.70000030e+05, 1.60000010e+05, 1.30000304e+05,\n",
              "       6.70006618e+04, 5.20006619e+04, 1.54000085e+05, 1.26000085e+05,\n",
              "       1.29000196e+05, 1.49999668e+05, 2.00004571e+05])"
            ]
          },
          "metadata": {},
          "execution_count": 153
        }
      ]
    },
    {
      "cell_type": "code",
      "source": [
        "from sklearn.metrics import mean_absolute_error\n",
        "le.score(te_pip,y_test)"
      ],
      "metadata": {
        "colab": {
          "base_uri": "https://localhost:8080/"
        },
        "id": "HT1TClHJEG89",
        "outputId": "3b98125a-2986-4bb8-cfa7-950b773d7330"
      },
      "execution_count": 154,
      "outputs": [
        {
          "output_type": "execute_result",
          "data": {
            "text/plain": [
              "0.9999999999987292"
            ]
          },
          "metadata": {},
          "execution_count": 154
        }
      ]
    },
    {
      "cell_type": "code",
      "source": [
        "s=[2020,'SE','FT','Product Data Analyst','EUR',79833,'DE',50,'DE','L']\n",
        "salary=pip.transform([s])"
      ],
      "metadata": {
        "id": "gpCMXuEyFZJO"
      },
      "execution_count": 184,
      "outputs": []
    },
    {
      "cell_type": "code",
      "source": [
        "le.predict(salary)"
      ],
      "metadata": {
        "colab": {
          "base_uri": "https://localhost:8080/"
        },
        "id": "DggBVKILFkMi",
        "outputId": "16f7d6ca-3fbf-428a-8ca7-562a39b8ad27"
      },
      "execution_count": 186,
      "outputs": [
        {
          "output_type": "execute_result",
          "data": {
            "text/plain": [
              "array([70011.96561575])"
            ]
          },
          "metadata": {},
          "execution_count": 186
        }
      ]
    },
    {
      "cell_type": "code",
      "source": [
        "from sklearn.linear_model import LogisticRegression\n",
        "lr=LogisticRegression()"
      ],
      "metadata": {
        "id": "Mf9NGK7XK80O"
      },
      "execution_count": 195,
      "outputs": []
    },
    {
      "cell_type": "code",
      "source": [
        "lr.fit(t_pip,y)"
      ],
      "metadata": {
        "colab": {
          "base_uri": "https://localhost:8080/"
        },
        "id": "2-F7k6eLL5A_",
        "outputId": "7b2b53b6-9fbe-47e9-847d-56dc0d4ed8e6"
      },
      "execution_count": 196,
      "outputs": [
        {
          "output_type": "execute_result",
          "data": {
            "text/plain": [
              "LogisticRegression()"
            ]
          },
          "metadata": {},
          "execution_count": 196
        }
      ]
    },
    {
      "cell_type": "code",
      "source": [
        "lr.fit(te_pip,y_test)\n",
        "pred = lr.predict(te_pip)\n"
      ],
      "metadata": {
        "id": "0l7nebiZMAjm"
      },
      "execution_count": 199,
      "outputs": []
    },
    {
      "cell_type": "code",
      "source": [
        "lr.score(te_pip,y_test)"
      ],
      "metadata": {
        "colab": {
          "base_uri": "https://localhost:8080/"
        },
        "id": "QPhI9EIjMHZU",
        "outputId": "47f4bb96-1759-43cf-b2b6-38d3e6893901"
      },
      "execution_count": 200,
      "outputs": [
        {
          "output_type": "execute_result",
          "data": {
            "text/plain": [
              "0.9242174629324547"
            ]
          },
          "metadata": {},
          "execution_count": 200
        }
      ]
    },
    {
      "cell_type": "code",
      "source": [
        "s=[2020,'SE','FT','Product Data Analyst','EUR',79833,'DE',50,'DE','L']\n",
        "salary=pip.transform([s])"
      ],
      "metadata": {
        "id": "zF9pKyKSMMeB"
      },
      "execution_count": 201,
      "outputs": []
    },
    {
      "cell_type": "code",
      "source": [
        "lr.predict(salary)"
      ],
      "metadata": {
        "colab": {
          "base_uri": "https://localhost:8080/"
        },
        "id": "lXCYDTAkMfkK",
        "outputId": "5c0fe291-4915-40ae-f259-247218fac18c"
      },
      "execution_count": 202,
      "outputs": [
        {
          "output_type": "execute_result",
          "data": {
            "text/plain": [
              "array([70000])"
            ]
          },
          "metadata": {},
          "execution_count": 202
        }
      ]
    },
    {
      "cell_type": "code",
      "source": [
        ""
      ],
      "metadata": {
        "id": "xdtp67lmMhTF"
      },
      "execution_count": null,
      "outputs": []
    },
    {
      "cell_type": "code",
      "source": [
        ""
      ],
      "metadata": {
        "id": "CApozaWFM3EZ"
      },
      "execution_count": null,
      "outputs": []
    }
  ]
}